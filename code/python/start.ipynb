{
 "cells": [
  {
   "cell_type": "code",
   "execution_count": null,
   "metadata": {},
   "outputs": [],
   "source": []
  },
  {
   "cell_type": "code",
   "execution_count": 22,
   "metadata": {},
   "outputs": [
    {
     "name": "stdout",
     "output_type": "stream",
     "text": [
      "/Users/zhuliang/Projects/home-credit-risk\n",
      "/Users/zhuliang/Projects/home-credit-risk/data/raw\n"
     ]
    }
   ],
   "source": [
    "from pathlib import Path\n",
    "\n",
    "# Get the current project root path\n",
    "current_path = Path().resolve()\n",
    "# Get the parent directory of the current project root path\n",
    "code_path = current_path.parent\n",
    "# Get the parent directory of the code path\n",
    "project_root_path = code_path.parent\n",
    "print(project_root_path)\n",
    "\n",
    "# Get the data path\n",
    "data_path = project_root_path / 'data'\n",
    "raw_data_path = data_path / 'raw'\n",
    "print(raw_data_path)"
   ]
  },
  {
   "cell_type": "code",
   "execution_count": null,
   "metadata": {},
   "outputs": [],
   "source": []
  },
  {
   "cell_type": "code",
   "execution_count": 16,
   "metadata": {},
   "outputs": [
    {
     "name": "stdout",
     "output_type": "stream",
     "text": [
      "                  Variable                                        Description\n",
      "0           actualdpd_943P  Days Past Due (DPD) of previous contract (actu...\n",
      "1  actualdpdtolerance_344P                      DPD of client with tolerance.\n",
      "2     addres_district_368M                  District of the person's address.\n",
      "3         addres_role_871L                          Role of person's address.\n",
      "4          addres_zip_823M                           Zip code of the address.\n"
     ]
    }
   ],
   "source": [
    "import pandas as pd\n",
    "\n",
    "# Read the feature_definitions.csv file\n",
    "feature_definitions_path = raw_data_path / 'feature_definitions.csv'\n",
    "feature_definitions_df = pd.read_csv(feature_definitions_path)\n",
    "print(feature_definitions_df.head())"
   ]
  },
  {
   "cell_type": "code",
   "execution_count": 21,
   "metadata": {},
   "outputs": [
    {
     "name": "stdout",
     "output_type": "stream",
     "text": [
      "/Users/zhuliang/Projects/home-credit-risk/data/raw/csv_files/train/train_base.csv\n",
      "   case_id date_decision   MONTH  WEEK_NUM  target\n",
      "0        0    2019-01-03  201901         0       0\n",
      "1        1    2019-01-03  201901         0       0\n",
      "2        2    2019-01-04  201901         0       0\n",
      "3        3    2019-01-03  201901         0       0\n",
      "4        4    2019-01-04  201901         0       1\n"
     ]
    }
   ],
   "source": [
    "# read: train/train.csv under the raw data path\n",
    "train_base_path = raw_data_path / 'csv_files' / 'train' / 'train_base.csv'\n",
    "print(train_base_path)\n",
    "train_base_df = pd.read_csv(train_base_path)\n",
    "print(train_base_df.head())"
   ]
  },
  {
   "cell_type": "code",
   "execution_count": 26,
   "metadata": {},
   "outputs": [
    {
     "name": "stdout",
     "output_type": "stream",
     "text": [
      "(1526659, 5)\n"
     ]
    }
   ],
   "source": [
    "# print the shape of the train_base_df\n",
    "print(train_base_df.shape)"
   ]
  },
  {
   "cell_type": "code",
   "execution_count": null,
   "metadata": {},
   "outputs": [
    {
     "name": "stdout",
     "output_type": "stream",
     "text": [
      "('64bit', '')\n"
     ]
    }
   ],
   "source": []
  },
  {
   "cell_type": "code",
   "execution_count": null,
   "metadata": {},
   "outputs": [
    {
     "name": "stdout",
     "output_type": "stream",
     "text": [
      "# packages in environment at /Users/zhuliang/opt/anaconda3/envs/hcr:\n",
      "#\n",
      "# Name                    Version                   Build  Channel\n",
      "_py-xgboost-mutex         2.0                       cpu_0    conda-forge\n",
      "anyio                     4.6.2.post1        pyhd8ed1ab_0    conda-forge\n",
      "appnope                   0.1.4              pyhd8ed1ab_0    conda-forge\n",
      "argon2-cffi               23.1.0             pyhd8ed1ab_0    conda-forge\n",
      "argon2-cffi-bindings      21.2.0          py311h460d6c5_5    conda-forge\n",
      "arrow                     1.3.0              pyhd8ed1ab_0    conda-forge\n",
      "asttokens                 2.4.1              pyhd8ed1ab_0    conda-forge\n",
      "async-lru                 2.0.4              pyhd8ed1ab_0    conda-forge\n",
      "attrs                     24.2.0             pyh71513ae_0    conda-forge\n",
      "babel                     2.16.0             pyhd8ed1ab_0    conda-forge\n",
      "beautifulsoup4            4.12.3             pyha770c72_0    conda-forge\n",
      "bleach                    6.2.0              pyhd8ed1ab_0    conda-forge\n",
      "brotli                    1.1.0                hd74edd7_2    conda-forge\n",
      "brotli-bin                1.1.0                hd74edd7_2    conda-forge\n",
      "brotli-python             1.1.0           py311h3f08180_2    conda-forge\n",
      "bzip2                     1.0.8                h99b78c6_7    conda-forge\n",
      "ca-certificates           2024.8.30            hf0a4a13_0    conda-forge\n",
      "cached-property           1.5.2                hd8ed1ab_1    conda-forge\n",
      "cached_property           1.5.2              pyha770c72_1    conda-forge\n",
      "certifi                   2024.8.30          pyhd8ed1ab_0    conda-forge\n",
      "cffi                      1.17.1          py311h3a79f62_0    conda-forge\n",
      "charset-normalizer        3.4.0              pyhd8ed1ab_0    conda-forge\n",
      "comm                      0.2.2              pyhd8ed1ab_0    conda-forge\n",
      "contourpy                 1.3.1           py311h210dab8_0    conda-forge\n",
      "cycler                    0.12.1             pyhd8ed1ab_0    conda-forge\n",
      "debugpy                   1.8.9           py311h155a34a_0    conda-forge\n",
      "decorator                 5.1.1              pyhd8ed1ab_0    conda-forge\n",
      "defusedxml                0.7.1              pyhd8ed1ab_0    conda-forge\n",
      "entrypoints               0.4                pyhd8ed1ab_0    conda-forge\n",
      "exceptiongroup            1.2.2              pyhd8ed1ab_0    conda-forge\n",
      "executing                 2.1.0              pyhd8ed1ab_0    conda-forge\n",
      "fonttools                 4.55.0          py311h4921393_0    conda-forge\n",
      "fqdn                      1.5.1              pyhd8ed1ab_0    conda-forge\n",
      "freetype                  2.12.1               hadb7bae_2    conda-forge\n",
      "h11                       0.14.0             pyhd8ed1ab_0    conda-forge\n",
      "h2                        4.1.0              pyhd8ed1ab_0    conda-forge\n",
      "hpack                     4.0.0              pyh9f0ad1d_0    conda-forge\n",
      "httpcore                  1.0.7              pyh29332c3_1    conda-forge\n",
      "httpx                     0.28.0             pyhd8ed1ab_0    conda-forge\n",
      "hyperframe                6.0.1              pyhd8ed1ab_0    conda-forge\n",
      "idna                      3.10               pyhd8ed1ab_0    conda-forge\n",
      "importlib-metadata        8.5.0              pyha770c72_0    conda-forge\n",
      "importlib_resources       6.4.5              pyhd8ed1ab_0    conda-forge\n",
      "ipykernel                 6.29.5             pyh57ce528_0    conda-forge\n",
      "ipython                   8.30.0             pyh707e725_0    conda-forge\n",
      "ipywidgets                8.1.5              pyhd8ed1ab_0    conda-forge\n",
      "isoduration               20.11.0            pyhd8ed1ab_0    conda-forge\n",
      "jedi                      0.19.2             pyhff2d567_0    conda-forge\n",
      "jinja2                    3.1.4              pyhd8ed1ab_0    conda-forge\n",
      "joblib                    1.4.2              pyhd8ed1ab_0    conda-forge\n",
      "json5                     0.10.0             pyhd8ed1ab_0    conda-forge\n",
      "jsonpointer               3.0.0           py311h267d04e_1    conda-forge\n",
      "jsonschema                4.23.0             pyhd8ed1ab_0    conda-forge\n",
      "jsonschema-specifications 2024.10.1          pyhd8ed1ab_0    conda-forge\n",
      "jsonschema-with-format-nongpl 4.23.0               hd8ed1ab_0    conda-forge\n",
      "jupyter                   1.1.1              pyhd8ed1ab_0    conda-forge\n",
      "jupyter-lsp               2.2.5              pyhd8ed1ab_0    conda-forge\n",
      "jupyter_client            8.6.3              pyhd8ed1ab_0    conda-forge\n",
      "jupyter_console           6.6.3              pyhd8ed1ab_0    conda-forge\n",
      "jupyter_core              5.7.2              pyh31011fe_1    conda-forge\n",
      "jupyter_events            0.10.0             pyhd8ed1ab_0    conda-forge\n",
      "jupyter_server            2.14.2             pyhd8ed1ab_0    conda-forge\n",
      "jupyter_server_terminals  0.5.3              pyhd8ed1ab_0    conda-forge\n",
      "jupyterlab                4.2.6              pyhff2d567_0    conda-forge\n",
      "jupyterlab_pygments       0.3.0              pyhd8ed1ab_1    conda-forge\n",
      "jupyterlab_server         2.27.3             pyhd8ed1ab_0    conda-forge\n",
      "jupyterlab_widgets        3.0.13             pyhd8ed1ab_0    conda-forge\n",
      "kiwisolver                1.4.7           py311h2c37856_0    conda-forge\n",
      "krb5                      1.21.3               h237132a_0    conda-forge\n",
      "lcms2                     2.16                 ha0e7c42_0    conda-forge\n",
      "lerc                      4.0.0                h9a09cb3_0    conda-forge\n",
      "libblas                   3.9.0           25_osxarm64_openblas    conda-forge\n",
      "libbrotlicommon           1.1.0                hd74edd7_2    conda-forge\n",
      "libbrotlidec              1.1.0                hd74edd7_2    conda-forge\n",
      "libbrotlienc              1.1.0                hd74edd7_2    conda-forge\n",
      "libcblas                  3.9.0           25_osxarm64_openblas    conda-forge\n",
      "libcxx                    19.1.4               ha82da77_0    conda-forge\n",
      "libdeflate                1.22                 hd74edd7_0    conda-forge\n",
      "libedit                   3.1.20191231         hc8eb9b7_2    conda-forge\n",
      "libexpat                  2.6.4                h286801f_0    conda-forge\n",
      "libffi                    3.4.2                h3422bc3_5    conda-forge\n",
      "libgfortran               5.0.0           13_2_0_hd922786_3    conda-forge\n",
      "libgfortran5              13.2.0               hf226fd6_3    conda-forge\n",
      "libjpeg-turbo             3.0.0                hb547adb_1    conda-forge\n",
      "liblapack                 3.9.0           25_osxarm64_openblas    conda-forge\n",
      "libopenblas               0.3.28          openmp_hf332438_1    conda-forge\n",
      "libpng                    1.6.44               hc14010f_0    conda-forge\n",
      "libsodium                 1.0.20               h99b78c6_0    conda-forge\n",
      "libsqlite                 3.47.0               hbaaea75_1    conda-forge\n",
      "libtiff                   4.7.0                hfce79cd_1    conda-forge\n",
      "libwebp-base              1.4.0                h93a5062_0    conda-forge\n",
      "libxcb                    1.17.0               hdb1d25a_0    conda-forge\n",
      "libxgboost                2.1.2            cpu_h549eda0_2    conda-forge\n",
      "libzlib                   1.3.1                h8359307_2    conda-forge\n",
      "llvm-openmp               19.1.4               hdb05f8b_0    conda-forge\n",
      "markupsafe                3.0.2           py311h56c23cb_0    conda-forge\n",
      "matplotlib                3.9.2           py311ha1ab1f8_2    conda-forge\n",
      "matplotlib-base           3.9.2           py311hbe3227e_2    conda-forge\n",
      "matplotlib-inline         0.1.7              pyhd8ed1ab_0    conda-forge\n",
      "mistune                   3.0.2              pyhd8ed1ab_0    conda-forge\n",
      "munkres                   1.1.4              pyh9f0ad1d_0    conda-forge\n",
      "nbclient                  0.10.1             pyhd8ed1ab_0    conda-forge\n",
      "nbconvert-core            7.16.4             pyhd8ed1ab_1    conda-forge\n",
      "nbformat                  5.10.4             pyhd8ed1ab_0    conda-forge\n",
      "ncurses                   6.5                  h7bae524_1    conda-forge\n",
      "nest-asyncio              1.6.0              pyhd8ed1ab_0    conda-forge\n",
      "notebook                  7.2.2              pyhd8ed1ab_0    conda-forge\n",
      "notebook-shim             0.2.4              pyhd8ed1ab_0    conda-forge\n",
      "numpy                     2.1.3           py311h649a571_0    conda-forge\n",
      "openjpeg                  2.5.2                h9f1df11_0    conda-forge\n",
      "openssl                   3.4.0                h39f12f2_0    conda-forge\n",
      "overrides                 7.7.0              pyhd8ed1ab_0    conda-forge\n",
      "packaging                 24.2               pyhff2d567_1    conda-forge\n",
      "pandas                    2.2.3           py311h9cb3ce9_1    conda-forge\n",
      "pandocfilters             1.5.0              pyhd8ed1ab_0    conda-forge\n",
      "parso                     0.8.4              pyhd8ed1ab_0    conda-forge\n",
      "patsy                     1.0.1              pyhff2d567_0    conda-forge\n",
      "pexpect                   4.9.0              pyhd8ed1ab_0    conda-forge\n",
      "pickleshare               0.7.5                   py_1003    conda-forge\n",
      "pillow                    11.0.0          py311h3894ae9_0    conda-forge\n",
      "pip                       24.3.1             pyh8b19718_0    conda-forge\n",
      "pkgutil-resolve-name      1.3.10             pyhd8ed1ab_1    conda-forge\n",
      "platformdirs              4.3.6              pyhd8ed1ab_0    conda-forge\n",
      "prometheus_client         0.21.0             pyhd8ed1ab_0    conda-forge\n",
      "prompt-toolkit            3.0.48             pyha770c72_0    conda-forge\n",
      "prompt_toolkit            3.0.48               hd8ed1ab_0    conda-forge\n",
      "psutil                    6.1.0           py311hae2e1ce_0    conda-forge\n",
      "pthread-stubs             0.4               hd74edd7_1002    conda-forge\n",
      "ptyprocess                0.7.0              pyhd3deb0d_0    conda-forge\n",
      "pure_eval                 0.2.3              pyhd8ed1ab_0    conda-forge\n",
      "py-xgboost                2.1.2           cpu_pyhd3de297_2    conda-forge\n",
      "pycparser                 2.22               pyhd8ed1ab_0    conda-forge\n",
      "pygments                  2.18.0             pyhd8ed1ab_0    conda-forge\n",
      "pyobjc-core               10.3.1          py311h09e6bbd_1    conda-forge\n",
      "pyobjc-framework-cocoa    10.3.1          py311h09e6bbd_1    conda-forge\n",
      "pyparsing                 3.2.0              pyhd8ed1ab_1    conda-forge\n",
      "pysocks                   1.7.1              pyha2e5f31_6    conda-forge\n",
      "python                    3.11.10         hc51fdd5_3_cpython    conda-forge\n",
      "python-dateutil           2.9.0.post0        pyhff2d567_0    conda-forge\n",
      "python-fastjsonschema     2.21.0             pyhd8ed1ab_0    conda-forge\n",
      "python-json-logger        2.0.7              pyhd8ed1ab_0    conda-forge\n",
      "python-tzdata             2024.2             pyhd8ed1ab_0    conda-forge\n",
      "python_abi                3.11                    5_cp311    conda-forge\n",
      "pytz                      2024.1             pyhd8ed1ab_0    conda-forge\n",
      "pyyaml                    6.0.2           py311h460d6c5_1    conda-forge\n",
      "pyzmq                     26.2.0          py311h730b646_3    conda-forge\n",
      "qhull                     2020.2               h420ef59_5    conda-forge\n",
      "readline                  8.2                  h92ec313_1    conda-forge\n",
      "referencing               0.35.1             pyhd8ed1ab_0    conda-forge\n",
      "requests                  2.32.3             pyhd8ed1ab_0    conda-forge\n",
      "rfc3339-validator         0.1.4              pyhd8ed1ab_0    conda-forge\n",
      "rfc3986-validator         0.1.1              pyh9f0ad1d_0    conda-forge\n",
      "rpds-py                   0.21.0          py311h3ff9189_0    conda-forge\n",
      "scikit-learn              1.5.2           py311h9e23f0f_1    conda-forge\n",
      "scipy                     1.14.1          py311hf1db568_1    conda-forge\n",
      "seaborn                   0.13.2               hd8ed1ab_2    conda-forge\n",
      "seaborn-base              0.13.2             pyhd8ed1ab_2    conda-forge\n",
      "send2trash                1.8.3              pyh31c8845_0    conda-forge\n",
      "setuptools                75.6.0             pyhff2d567_1    conda-forge\n",
      "six                       1.16.0             pyh6c4a22f_0    conda-forge\n",
      "sniffio                   1.3.1              pyhd8ed1ab_0    conda-forge\n",
      "soupsieve                 2.5                pyhd8ed1ab_1    conda-forge\n",
      "stack_data                0.6.2              pyhd8ed1ab_0    conda-forge\n",
      "statsmodels               0.14.4          py311h0f07fe1_0    conda-forge\n",
      "terminado                 0.18.1             pyh31c8845_0    conda-forge\n",
      "threadpoolctl             3.5.0              pyhc1e730c_0    conda-forge\n",
      "tinycss2                  1.4.0              pyhd8ed1ab_0    conda-forge\n",
      "tk                        8.6.13               h5083fa2_1    conda-forge\n",
      "tomli                     2.2.1              pyhd8ed1ab_0    conda-forge\n",
      "tornado                   6.4.2           py311h917b07b_0    conda-forge\n",
      "traitlets                 5.14.3             pyhd8ed1ab_0    conda-forge\n",
      "types-python-dateutil     2.9.0.20241003     pyhff2d567_0    conda-forge\n",
      "typing-extensions         4.12.2               hd8ed1ab_0    conda-forge\n",
      "typing_extensions         4.12.2             pyha770c72_0    conda-forge\n",
      "typing_utils              0.1.0              pyhd8ed1ab_0    conda-forge\n",
      "tzdata                    2024b                hc8b5060_0    conda-forge\n",
      "unicodedata2              15.1.0          py311hae2e1ce_1    conda-forge\n",
      "uri-template              1.3.0              pyhd8ed1ab_0    conda-forge\n",
      "urllib3                   2.2.3              pyhd8ed1ab_0    conda-forge\n",
      "wcwidth                   0.2.13             pyhd8ed1ab_0    conda-forge\n",
      "webcolors                 24.8.0             pyhd8ed1ab_0    conda-forge\n",
      "webencodings              0.5.1              pyhd8ed1ab_2    conda-forge\n",
      "websocket-client          1.8.0              pyhd8ed1ab_0    conda-forge\n",
      "wheel                     0.45.1             pyhd8ed1ab_0    conda-forge\n",
      "widgetsnbextension        4.0.13             pyhd8ed1ab_0    conda-forge\n",
      "xgboost                   2.1.2           cpu_pyhac85b48_2    conda-forge\n",
      "xorg-libxau               1.0.11               hd74edd7_1    conda-forge\n",
      "xorg-libxdmcp             1.1.5                hd74edd7_0    conda-forge\n",
      "xz                        5.2.6                h57fd34a_0    conda-forge\n",
      "yaml                      0.2.5                h3422bc3_2    conda-forge\n",
      "zeromq                    4.3.5                hc1bb282_7    conda-forge\n",
      "zipp                      3.21.0             pyhd8ed1ab_1    conda-forge\n",
      "zstandard                 0.23.0          py311ha60cc69_1    conda-forge\n",
      "zstd                      1.5.6                hb46c0d2_0    conda-forge\n",
      "\n",
      "Note: you may need to restart the kernel to use updated packages.\n"
     ]
    }
   ],
   "source": []
  },
  {
   "cell_type": "code",
   "execution_count": null,
   "metadata": {},
   "outputs": [],
   "source": []
  }
 ],
 "metadata": {
  "kernelspec": {
   "display_name": "hcr",
   "language": "python",
   "name": "python3"
  },
  "language_info": {
   "codemirror_mode": {
    "name": "ipython",
    "version": 3
   },
   "file_extension": ".py",
   "mimetype": "text/x-python",
   "name": "python",
   "nbconvert_exporter": "python",
   "pygments_lexer": "ipython3",
   "version": "3.11.10"
  }
 },
 "nbformat": 4,
 "nbformat_minor": 2
}
